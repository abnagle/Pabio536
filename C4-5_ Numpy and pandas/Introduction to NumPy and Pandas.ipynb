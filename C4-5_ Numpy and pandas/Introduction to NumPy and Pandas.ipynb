{
 "cells": [
  {
   "cell_type": "markdown",
   "metadata": {},
   "source": [
    "# Using `numpy` and `pandas` to hold and manipulate data"
   ]
  },
  {
   "cell_type": "markdown",
   "metadata": {},
   "source": [
    "## Intro\n",
    "\n",
    "Two of the most useful libraries for working with scientific data are `numpy` and `pandas`. `Numpy` lets you set up n-dimensional arrays of data (ndarrays), slice and manipulate that data, and perform various operations on those arrays. `Pandas` builds on that functionality by focusing on rigidly defined lists (Series) and 2D tables (DataFrames aka \"panel data\", whence comes `pandas`). `Pandas` also makes data import and manipulation simpler and more intuitive than `numpy`. However in exchange for being simpler to write and read, `pandas` can be slower than `numpy`. \n",
    "\n",
    "In addition to `numpy` and `pandas`, we will touch on `scipy`, which is also built on top of `numpy`. `Scipy` lets you input `numpy` arrays into a wide range of statistical and modeling algorithms.\n",
    "\n",
    "The lines between these libraries are blurry, and often you can do the same functions using either package with slightly different syntax. \n",
    "\n",
    "Most python plotting packages use `numpy` ndarrays or `pandas` DataFrames as input. We will use some plotting methods below to visualize what we are doing with our DataFrame without actually covering how to use those functions, but don't panic! We will focus on plotting later in the course. "
   ]
  },
  {
   "cell_type": "markdown",
   "metadata": {},
   "source": [
    "## `Pandas` for tidy data management\n",
    "\n",
    "Even though `pandas` is built on top of `numpy`, it's simpler and importing data is much easier with `pandas`, so we will start here. \n",
    "\n",
    "There are two main `pandas` data types:\n",
    "\n",
    " - Series: A named list of values, all of the same type\n",
    " - DataFrame: Basically an Excel spreadsheet in computer memory. Each column is a different Series of data, and each row is a separate observation or sample.\n",
    " \n",
    "Let's import some data to work with. `Pandas` provides simple tools for importing from Excel, csv, or any other common data format. Here we are going to use the `read_csv` command to pull in a table of RNAseq data from a [melanoma study from 2017](https://www.nature.com/articles/s41467-017-02353-y) published in Nature Communications. "
   ]
  },
  {
   "cell_type": "markdown",
   "metadata": {},
   "source": [
    "## Importing and initial data inspection \n",
    "\n",
    "First we need to import the libraries we want to use. When you import these libraries you can also give them an alias, or an easier to remember and type short name. The ones used below are common for these packages. "
   ]
  },
  {
   "cell_type": "code",
   "execution_count": 1,
   "metadata": {},
   "outputs": [],
   "source": [
    "import matplotlib.pyplot as plt\n",
    "import numpy as np\n",
    "import pandas as pd"
   ]
  },
  {
   "cell_type": "markdown",
   "metadata": {},
   "source": [
    "We can now use these packages by typing in the alias followed by a '.' and a method name. We'll start by importing a table of expression data using `read_csv` and a table of metadata using `read_excel`."
   ]
  },
  {
   "cell_type": "code",
   "execution_count": 2,
   "metadata": {},
   "outputs": [],
   "source": [
    "# The data is tab separated and the first column has the gene names\n",
    "# Remember that most things in python are zero-indexed, so the first\n",
    "# column is index 0\n",
    "df = pd.read_csv('data\\GSE88741-expression.txt', sep='\\t', index_col=0)"
   ]
  },
  {
   "cell_type": "code",
   "execution_count": 3,
   "metadata": {},
   "outputs": [
    {
     "name": "stdout",
     "output_type": "stream",
     "text": [
      "(35238, 12)\n",
      "             GSM2344965  GSM2344966  GSM2344967  GSM2344968  GSM2344969  \\\n",
      "gene_symbol                                                               \n",
      "A1BG                400         320         490         331         363   \n",
      "A1CF                  1           1           3           0           0   \n",
      "A2M               23278       47606       20484        2652        2707   \n",
      "A2ML1                 6           8          10           1           7   \n",
      "A2MP1                21           7          34           0           6   \n",
      "\n",
      "             GSM2344970  GSM2344971  GSM2344972  GSM2344973  GSM2344974  \\\n",
      "gene_symbol                                                               \n",
      "A1BG                390         225         248         301         755   \n",
      "A1CF                  1           0           2           3           1   \n",
      "A2M                2854           4           7           3       26726   \n",
      "A2ML1                 4           3           0           1           8   \n",
      "A2MP1                 3           0           0           0          13   \n",
      "\n",
      "             GSM2344975  GSM2344976  \n",
      "gene_symbol                          \n",
      "A1BG                391         310  \n",
      "A1CF                  0           5  \n",
      "A2M               10394       12096  \n",
      "A2ML1                 4           7  \n",
      "A2MP1                 3           3  \n"
     ]
    }
   ],
   "source": [
    "# Lets take a look at the imported data\n",
    "# The number of rows and columns in a DataFrame can be found at df.shape\n",
    "print (df.shape)\n",
    "\n",
    "# Let's take a look at the top of `df` using df.head()\n",
    "# Input a number between the parentheses to indicate how many lines you want to see- 5 is default\n",
    "print (df.head())\n",
    "\n",
    "# Note: Why don't we need parentheses after `df.shape`?"
   ]
  },
  {
   "cell_type": "code",
   "execution_count": 4,
   "metadata": {},
   "outputs": [
    {
     "data": {
      "text/html": [
       "<div>\n",
       "<style scoped>\n",
       "    .dataframe tbody tr th:only-of-type {\n",
       "        vertical-align: middle;\n",
       "    }\n",
       "\n",
       "    .dataframe tbody tr th {\n",
       "        vertical-align: top;\n",
       "    }\n",
       "\n",
       "    .dataframe thead th {\n",
       "        text-align: right;\n",
       "    }\n",
       "</style>\n",
       "<table border=\"1\" class=\"dataframe\">\n",
       "  <thead>\n",
       "    <tr style=\"text-align: right;\">\n",
       "      <th></th>\n",
       "      <th>GSM2344965</th>\n",
       "      <th>GSM2344966</th>\n",
       "      <th>GSM2344967</th>\n",
       "      <th>GSM2344968</th>\n",
       "      <th>GSM2344969</th>\n",
       "      <th>GSM2344970</th>\n",
       "      <th>GSM2344971</th>\n",
       "      <th>GSM2344972</th>\n",
       "      <th>GSM2344973</th>\n",
       "      <th>GSM2344974</th>\n",
       "      <th>GSM2344975</th>\n",
       "      <th>GSM2344976</th>\n",
       "    </tr>\n",
       "  </thead>\n",
       "  <tbody>\n",
       "    <tr>\n",
       "      <th>count</th>\n",
       "      <td>35238.0</td>\n",
       "      <td>35238.0</td>\n",
       "      <td>35238.0</td>\n",
       "      <td>35238.0</td>\n",
       "      <td>35238.0</td>\n",
       "      <td>35238.0</td>\n",
       "      <td>35238.0</td>\n",
       "      <td>35238.0</td>\n",
       "      <td>35238.0</td>\n",
       "      <td>35238.0</td>\n",
       "      <td>35238.0</td>\n",
       "      <td>35238.0</td>\n",
       "    </tr>\n",
       "    <tr>\n",
       "      <th>mean</th>\n",
       "      <td>879.0</td>\n",
       "      <td>891.0</td>\n",
       "      <td>885.0</td>\n",
       "      <td>906.0</td>\n",
       "      <td>999.0</td>\n",
       "      <td>987.0</td>\n",
       "      <td>1040.0</td>\n",
       "      <td>1007.0</td>\n",
       "      <td>963.0</td>\n",
       "      <td>962.0</td>\n",
       "      <td>1030.0</td>\n",
       "      <td>971.0</td>\n",
       "    </tr>\n",
       "    <tr>\n",
       "      <th>std</th>\n",
       "      <td>7328.0</td>\n",
       "      <td>6617.0</td>\n",
       "      <td>6925.0</td>\n",
       "      <td>4686.0</td>\n",
       "      <td>5050.0</td>\n",
       "      <td>5326.0</td>\n",
       "      <td>4732.0</td>\n",
       "      <td>4626.0</td>\n",
       "      <td>4458.0</td>\n",
       "      <td>4757.0</td>\n",
       "      <td>4832.0</td>\n",
       "      <td>4562.0</td>\n",
       "    </tr>\n",
       "    <tr>\n",
       "      <th>min</th>\n",
       "      <td>0.0</td>\n",
       "      <td>0.0</td>\n",
       "      <td>0.0</td>\n",
       "      <td>0.0</td>\n",
       "      <td>0.0</td>\n",
       "      <td>0.0</td>\n",
       "      <td>0.0</td>\n",
       "      <td>0.0</td>\n",
       "      <td>0.0</td>\n",
       "      <td>0.0</td>\n",
       "      <td>0.0</td>\n",
       "      <td>0.0</td>\n",
       "    </tr>\n",
       "    <tr>\n",
       "      <th>25%</th>\n",
       "      <td>0.0</td>\n",
       "      <td>0.0</td>\n",
       "      <td>0.0</td>\n",
       "      <td>0.0</td>\n",
       "      <td>0.0</td>\n",
       "      <td>0.0</td>\n",
       "      <td>0.0</td>\n",
       "      <td>0.0</td>\n",
       "      <td>0.0</td>\n",
       "      <td>0.0</td>\n",
       "      <td>0.0</td>\n",
       "      <td>0.0</td>\n",
       "    </tr>\n",
       "    <tr>\n",
       "      <th>50%</th>\n",
       "      <td>2.0</td>\n",
       "      <td>2.0</td>\n",
       "      <td>3.0</td>\n",
       "      <td>3.0</td>\n",
       "      <td>3.0</td>\n",
       "      <td>3.0</td>\n",
       "      <td>2.0</td>\n",
       "      <td>2.0</td>\n",
       "      <td>2.0</td>\n",
       "      <td>3.0</td>\n",
       "      <td>3.0</td>\n",
       "      <td>3.0</td>\n",
       "    </tr>\n",
       "    <tr>\n",
       "      <th>75%</th>\n",
       "      <td>453.0</td>\n",
       "      <td>465.0</td>\n",
       "      <td>476.0</td>\n",
       "      <td>431.0</td>\n",
       "      <td>485.0</td>\n",
       "      <td>480.0</td>\n",
       "      <td>516.0</td>\n",
       "      <td>499.0</td>\n",
       "      <td>526.0</td>\n",
       "      <td>569.0</td>\n",
       "      <td>556.0</td>\n",
       "      <td>529.0</td>\n",
       "    </tr>\n",
       "    <tr>\n",
       "      <th>max</th>\n",
       "      <td>723398.0</td>\n",
       "      <td>798530.0</td>\n",
       "      <td>664427.0</td>\n",
       "      <td>366345.0</td>\n",
       "      <td>378896.0</td>\n",
       "      <td>394524.0</td>\n",
       "      <td>301857.0</td>\n",
       "      <td>290756.0</td>\n",
       "      <td>308816.0</td>\n",
       "      <td>271799.0</td>\n",
       "      <td>297404.0</td>\n",
       "      <td>312086.0</td>\n",
       "    </tr>\n",
       "  </tbody>\n",
       "</table>\n",
       "</div>"
      ],
      "text/plain": [
       "       GSM2344965  GSM2344966  GSM2344967  GSM2344968  GSM2344969  GSM2344970  \\\n",
       "count     35238.0     35238.0     35238.0     35238.0     35238.0     35238.0   \n",
       "mean        879.0       891.0       885.0       906.0       999.0       987.0   \n",
       "std        7328.0      6617.0      6925.0      4686.0      5050.0      5326.0   \n",
       "min           0.0         0.0         0.0         0.0         0.0         0.0   \n",
       "25%           0.0         0.0         0.0         0.0         0.0         0.0   \n",
       "50%           2.0         2.0         3.0         3.0         3.0         3.0   \n",
       "75%         453.0       465.0       476.0       431.0       485.0       480.0   \n",
       "max      723398.0    798530.0    664427.0    366345.0    378896.0    394524.0   \n",
       "\n",
       "       GSM2344971  GSM2344972  GSM2344973  GSM2344974  GSM2344975  GSM2344976  \n",
       "count     35238.0     35238.0     35238.0     35238.0     35238.0     35238.0  \n",
       "mean       1040.0      1007.0       963.0       962.0      1030.0       971.0  \n",
       "std        4732.0      4626.0      4458.0      4757.0      4832.0      4562.0  \n",
       "min           0.0         0.0         0.0         0.0         0.0         0.0  \n",
       "25%           0.0         0.0         0.0         0.0         0.0         0.0  \n",
       "50%           2.0         2.0         2.0         3.0         3.0         3.0  \n",
       "75%         516.0       499.0       526.0       569.0       556.0       529.0  \n",
       "max      301857.0    290756.0    308816.0    271799.0    297404.0    312086.0  "
      ]
     },
     "execution_count": 4,
     "metadata": {},
     "output_type": "execute_result"
    }
   ],
   "source": [
    "# describe() shows a quick statistics summary of your data\n",
    "# round() limits the number of significant digits\n",
    "# You can chain together functions like we do here with round\n",
    "df.describe().round()"
   ]
  },
  {
   "cell_type": "code",
   "execution_count": 5,
   "metadata": {},
   "outputs": [],
   "source": [
    "# This is a large dataset, so lets take a small random sample to work with\n",
    "# the sample() method randomly selects a number of rows or columns from a larger DataFrame\n",
    "# We are setting the random_state here so that we all use the same random genes\n",
    "df_sample = df.sample(100, axis = 0, random_state = 333)"
   ]
  },
  {
   "cell_type": "code",
   "execution_count": 6,
   "metadata": {},
   "outputs": [
    {
     "name": "stdout",
     "output_type": "stream",
     "text": [
      "Dimensions of DataFrame: (100, 12)\n",
      "             GSM2344965  GSM2344966  GSM2344967  GSM2344968  GSM2344969  \\\n",
      "gene_symbol                                                               \n",
      "ASPDH                 1           1           1           4           0   \n",
      "KRT18P19              0           0           0           1           0   \n",
      "ANKIB1             2578        2432        2067        2634        3238   \n",
      "AGGF1P6               0           0           0           0           0   \n",
      "ZNF618             1489        1441        1089         997        1088   \n",
      "\n",
      "             GSM2344970  GSM2344971  GSM2344972  GSM2344973  GSM2344974  \\\n",
      "gene_symbol                                                               \n",
      "ASPDH                 1           2           1           1           2   \n",
      "KRT18P19              0           2           1           2           0   \n",
      "ANKIB1             3158        2373        1908        2324        2918   \n",
      "AGGF1P6               0           0           0           0           2   \n",
      "ZNF618              994        1947        1521        1617        1121   \n",
      "\n",
      "             GSM2344975  GSM2344976  \n",
      "gene_symbol                          \n",
      "ASPDH                 1           8  \n",
      "KRT18P19              0           2  \n",
      "ANKIB1             3352        3200  \n",
      "AGGF1P6               2           1  \n",
      "ZNF618              978        1184  \n"
     ]
    }
   ],
   "source": [
    "print (\"Dimensions of DataFrame:\",df_sample.shape)\n",
    "print (df_sample.head())"
   ]
  },
  {
   "cell_type": "code",
   "execution_count": 7,
   "metadata": {},
   "outputs": [
    {
     "data": {
      "text/html": [
       "<div>\n",
       "<style scoped>\n",
       "    .dataframe tbody tr th:only-of-type {\n",
       "        vertical-align: middle;\n",
       "    }\n",
       "\n",
       "    .dataframe tbody tr th {\n",
       "        vertical-align: top;\n",
       "    }\n",
       "\n",
       "    .dataframe thead th {\n",
       "        text-align: right;\n",
       "    }\n",
       "</style>\n",
       "<table border=\"1\" class=\"dataframe\">\n",
       "  <thead>\n",
       "    <tr style=\"text-align: right;\">\n",
       "      <th></th>\n",
       "      <th>Sample_geo_accession</th>\n",
       "      <th>Stage</th>\n",
       "      <th>cell type</th>\n",
       "    </tr>\n",
       "    <tr>\n",
       "      <th>Sample Title</th>\n",
       "      <th></th>\n",
       "      <th></th>\n",
       "      <th></th>\n",
       "    </tr>\n",
       "  </thead>\n",
       "  <tbody>\n",
       "    <tr>\n",
       "      <th>FM_1</th>\n",
       "      <td>GSM2344965</td>\n",
       "      <td>primary melanocytes</td>\n",
       "      <td>normal melanocytes</td>\n",
       "    </tr>\n",
       "    <tr>\n",
       "      <th>FM_2</th>\n",
       "      <td>GSM2344966</td>\n",
       "      <td>primary melanocytes</td>\n",
       "      <td>normal melanocytes</td>\n",
       "    </tr>\n",
       "    <tr>\n",
       "      <th>FM_3</th>\n",
       "      <td>GSM2344967</td>\n",
       "      <td>primary melanocytes</td>\n",
       "      <td>normal melanocytes</td>\n",
       "    </tr>\n",
       "    <tr>\n",
       "      <th>SK_MEL_28_1</th>\n",
       "      <td>GSM2344968</td>\n",
       "      <td>metastatic</td>\n",
       "      <td>melanoma cell line</td>\n",
       "    </tr>\n",
       "    <tr>\n",
       "      <th>SK_MEL_28_2</th>\n",
       "      <td>GSM2344969</td>\n",
       "      <td>metastatic</td>\n",
       "      <td>melanoma cell line</td>\n",
       "    </tr>\n",
       "    <tr>\n",
       "      <th>SK_MEL_28_3</th>\n",
       "      <td>GSM2344970</td>\n",
       "      <td>metastatic</td>\n",
       "      <td>melanoma cell line</td>\n",
       "    </tr>\n",
       "    <tr>\n",
       "      <th>SK_MEL_147_1</th>\n",
       "      <td>GSM2344971</td>\n",
       "      <td>metastatic</td>\n",
       "      <td>melanoma cell line</td>\n",
       "    </tr>\n",
       "    <tr>\n",
       "      <th>SK_MEL_147_2</th>\n",
       "      <td>GSM2344972</td>\n",
       "      <td>metastatic</td>\n",
       "      <td>melanoma cell line</td>\n",
       "    </tr>\n",
       "    <tr>\n",
       "      <th>SK_MEL_147_3</th>\n",
       "      <td>GSM2344973</td>\n",
       "      <td>metastatic</td>\n",
       "      <td>melanoma cell line</td>\n",
       "    </tr>\n",
       "    <tr>\n",
       "      <th>UACC_62_1</th>\n",
       "      <td>GSM2344974</td>\n",
       "      <td>metastatic</td>\n",
       "      <td>melanoma cell line</td>\n",
       "    </tr>\n",
       "    <tr>\n",
       "      <th>UACC_62_2</th>\n",
       "      <td>GSM2344975</td>\n",
       "      <td>metastatic</td>\n",
       "      <td>melanoma cell line</td>\n",
       "    </tr>\n",
       "    <tr>\n",
       "      <th>UACC_62_3</th>\n",
       "      <td>GSM2344976</td>\n",
       "      <td>metastatic</td>\n",
       "      <td>melanoma cell line</td>\n",
       "    </tr>\n",
       "  </tbody>\n",
       "</table>\n",
       "</div>"
      ],
      "text/plain": [
       "             Sample_geo_accession                Stage           cell type\n",
       "Sample Title                                                              \n",
       "FM_1                   GSM2344965  primary melanocytes  normal melanocytes\n",
       "FM_2                   GSM2344966  primary melanocytes  normal melanocytes\n",
       "FM_3                   GSM2344967  primary melanocytes  normal melanocytes\n",
       "SK_MEL_28_1            GSM2344968           metastatic  melanoma cell line\n",
       "SK_MEL_28_2            GSM2344969           metastatic  melanoma cell line\n",
       "SK_MEL_28_3            GSM2344970           metastatic  melanoma cell line\n",
       "SK_MEL_147_1           GSM2344971           metastatic  melanoma cell line\n",
       "SK_MEL_147_2           GSM2344972           metastatic  melanoma cell line\n",
       "SK_MEL_147_3           GSM2344973           metastatic  melanoma cell line\n",
       "UACC_62_1              GSM2344974           metastatic  melanoma cell line\n",
       "UACC_62_2              GSM2344975           metastatic  melanoma cell line\n",
       "UACC_62_3              GSM2344976           metastatic  melanoma cell line"
      ]
     },
     "execution_count": 7,
     "metadata": {},
     "output_type": "execute_result"
    }
   ],
   "source": [
    "# Let's bring in the metadata from an excel spreadsheet\n",
    "meta = pd.read_excel(\"data/GSE88741-metadata.xlsx\", index_col=1)\n",
    "meta"
   ]
  },
  {
   "cell_type": "code",
   "execution_count": 9,
   "metadata": {},
   "outputs": [
    {
     "name": "stdout",
     "output_type": "stream",
     "text": [
      "<class 'pandas.core.indexes.base.Index'>\n"
     ]
    }
   ],
   "source": [
    "# Now let's extract the Sample Titles and use them to replace the ugly GSM names\n",
    "columns = meta.index\n",
    "print (type(columns))\n",
    "df_sample.columns = columns"
   ]
  },
  {
   "cell_type": "code",
   "execution_count": 10,
   "metadata": {},
   "outputs": [
    {
     "data": {
      "text/html": [
       "<div>\n",
       "<style scoped>\n",
       "    .dataframe tbody tr th:only-of-type {\n",
       "        vertical-align: middle;\n",
       "    }\n",
       "\n",
       "    .dataframe tbody tr th {\n",
       "        vertical-align: top;\n",
       "    }\n",
       "\n",
       "    .dataframe thead th {\n",
       "        text-align: right;\n",
       "    }\n",
       "</style>\n",
       "<table border=\"1\" class=\"dataframe\">\n",
       "  <thead>\n",
       "    <tr style=\"text-align: right;\">\n",
       "      <th>Sample Title</th>\n",
       "      <th>FM_1</th>\n",
       "      <th>FM_2</th>\n",
       "      <th>FM_3</th>\n",
       "      <th>SK_MEL_28_1</th>\n",
       "      <th>SK_MEL_28_2</th>\n",
       "      <th>SK_MEL_28_3</th>\n",
       "      <th>SK_MEL_147_1</th>\n",
       "      <th>SK_MEL_147_2</th>\n",
       "      <th>SK_MEL_147_3</th>\n",
       "      <th>UACC_62_1</th>\n",
       "      <th>UACC_62_2</th>\n",
       "      <th>UACC_62_3</th>\n",
       "    </tr>\n",
       "    <tr>\n",
       "      <th>gene_symbol</th>\n",
       "      <th></th>\n",
       "      <th></th>\n",
       "      <th></th>\n",
       "      <th></th>\n",
       "      <th></th>\n",
       "      <th></th>\n",
       "      <th></th>\n",
       "      <th></th>\n",
       "      <th></th>\n",
       "      <th></th>\n",
       "      <th></th>\n",
       "      <th></th>\n",
       "    </tr>\n",
       "  </thead>\n",
       "  <tbody>\n",
       "    <tr>\n",
       "      <th>ASPDH</th>\n",
       "      <td>1</td>\n",
       "      <td>1</td>\n",
       "      <td>1</td>\n",
       "      <td>4</td>\n",
       "      <td>0</td>\n",
       "      <td>1</td>\n",
       "      <td>2</td>\n",
       "      <td>1</td>\n",
       "      <td>1</td>\n",
       "      <td>2</td>\n",
       "      <td>1</td>\n",
       "      <td>8</td>\n",
       "    </tr>\n",
       "    <tr>\n",
       "      <th>KRT18P19</th>\n",
       "      <td>0</td>\n",
       "      <td>0</td>\n",
       "      <td>0</td>\n",
       "      <td>1</td>\n",
       "      <td>0</td>\n",
       "      <td>0</td>\n",
       "      <td>2</td>\n",
       "      <td>1</td>\n",
       "      <td>2</td>\n",
       "      <td>0</td>\n",
       "      <td>0</td>\n",
       "      <td>2</td>\n",
       "    </tr>\n",
       "    <tr>\n",
       "      <th>ANKIB1</th>\n",
       "      <td>2578</td>\n",
       "      <td>2432</td>\n",
       "      <td>2067</td>\n",
       "      <td>2634</td>\n",
       "      <td>3238</td>\n",
       "      <td>3158</td>\n",
       "      <td>2373</td>\n",
       "      <td>1908</td>\n",
       "      <td>2324</td>\n",
       "      <td>2918</td>\n",
       "      <td>3352</td>\n",
       "      <td>3200</td>\n",
       "    </tr>\n",
       "    <tr>\n",
       "      <th>AGGF1P6</th>\n",
       "      <td>0</td>\n",
       "      <td>0</td>\n",
       "      <td>0</td>\n",
       "      <td>0</td>\n",
       "      <td>0</td>\n",
       "      <td>0</td>\n",
       "      <td>0</td>\n",
       "      <td>0</td>\n",
       "      <td>0</td>\n",
       "      <td>2</td>\n",
       "      <td>2</td>\n",
       "      <td>1</td>\n",
       "    </tr>\n",
       "    <tr>\n",
       "      <th>ZNF618</th>\n",
       "      <td>1489</td>\n",
       "      <td>1441</td>\n",
       "      <td>1089</td>\n",
       "      <td>997</td>\n",
       "      <td>1088</td>\n",
       "      <td>994</td>\n",
       "      <td>1947</td>\n",
       "      <td>1521</td>\n",
       "      <td>1617</td>\n",
       "      <td>1121</td>\n",
       "      <td>978</td>\n",
       "      <td>1184</td>\n",
       "    </tr>\n",
       "  </tbody>\n",
       "</table>\n",
       "</div>"
      ],
      "text/plain": [
       "Sample Title  FM_1  FM_2  FM_3  SK_MEL_28_1  SK_MEL_28_2  SK_MEL_28_3  \\\n",
       "gene_symbol                                                             \n",
       "ASPDH            1     1     1            4            0            1   \n",
       "KRT18P19         0     0     0            1            0            0   \n",
       "ANKIB1        2578  2432  2067         2634         3238         3158   \n",
       "AGGF1P6          0     0     0            0            0            0   \n",
       "ZNF618        1489  1441  1089          997         1088          994   \n",
       "\n",
       "Sample Title  SK_MEL_147_1  SK_MEL_147_2  SK_MEL_147_3  UACC_62_1  UACC_62_2  \\\n",
       "gene_symbol                                                                    \n",
       "ASPDH                    2             1             1          2          1   \n",
       "KRT18P19                 2             1             2          0          0   \n",
       "ANKIB1                2373          1908          2324       2918       3352   \n",
       "AGGF1P6                  0             0             0          2          2   \n",
       "ZNF618                1947          1521          1617       1121        978   \n",
       "\n",
       "Sample Title  UACC_62_3  \n",
       "gene_symbol              \n",
       "ASPDH                 8  \n",
       "KRT18P19              2  \n",
       "ANKIB1             3200  \n",
       "AGGF1P6               1  \n",
       "ZNF618             1184  "
      ]
     },
     "execution_count": 10,
     "metadata": {},
     "output_type": "execute_result"
    }
   ],
   "source": [
    "df_sample.head()"
   ]
  },
  {
   "cell_type": "code",
   "execution_count": 11,
   "metadata": {},
   "outputs": [
    {
     "name": "stdout",
     "output_type": "stream",
     "text": [
      "Index(['ASPDH', 'KRT18P19', 'ANKIB1', 'AGGF1P6', 'ZNF618', 'IMPG2', 'SLC26A6',\n",
      "       'RP11-28P17.3', 'CYP51A1P2', 'UBE3AP2', 'MAPKAPK3', 'DYNLT3', 'TNNC1',\n",
      "       'IGHV3-42', 'OR2W5', 'RPL5P2', 'GRAMD3', 'PRELID2P1', 'MTCO1P42',\n",
      "       'GS1-259H13.13', 'IGKV1D-39', 'AC144568.4', 'SYN1', 'MPDZ', 'DGKI',\n",
      "       'RCC2', 'RPL5P16', 'RP11-74C1.2', 'KIF5A', 'GTF2H1', 'TMEM126B',\n",
      "       'COL1A1', 'APOF', 'SLC35A3', 'NBPF17P', 'TMEM60', 'ELFN1', 'OSBPL9P5',\n",
      "       'AKR1C4', 'MARCKSL1', 'TRAPPC2B', 'GU182343.7', 'NCMAP', 'ZNF676',\n",
      "       'BMPR1A', 'RP11-133L14.2', 'WDR19', 'RP11-11A5.1', 'CTD-2587H24.1',\n",
      "       'TAF1D', 'SLC10A1', 'RP11-552J9.11', 'BCAP31', 'RPS6KA6',\n",
      "       'RP11-216F5.1', 'PGBD2', 'NAP1L4P3', 'TSNAXIP1', 'CHRNA7',\n",
      "       'RP11-307F22.2', 'DYNC2H1', 'AC064850.4', 'AC104073.1', 'MTSS1',\n",
      "       'ZCCHC17', 'AC010731.4', 'RP11-359P14.3', 'IFT74', 'FOXC1',\n",
      "       'RP11-537E18.1', 'CDIP1', 'SULT1A1', 'MTND5P27', 'ARIH2P1',\n",
      "       'AC243945.1', 'SLC7A15P', 'HNRNPCP10', 'SHMT1', 'OR1N2', 'ZNF343',\n",
      "       'RECQL4', 'DTX3L', 'CPAMD8', 'CLUHP1', 'HMGN1P18', 'RP11-25J3.2',\n",
      "       'NBAS', 'SRPK2P', 'RP11-113C12.2', 'ZNF24', 'MOB3A', 'HNRNPA1P29',\n",
      "       'KISS1', 'AEBP1', 'EHF', 'LUM', 'PLEKHM3', 'IQCG', 'AQP7P4',\n",
      "       'IGLV1-41'],\n",
      "      dtype='object', name='gene_symbol')\n",
      "Index(['FM_1', 'FM_2', 'FM_3', 'SK_MEL_28_1', 'SK_MEL_28_2', 'SK_MEL_28_3',\n",
      "       'SK_MEL_147_1', 'SK_MEL_147_2', 'SK_MEL_147_3', 'UACC_62_1',\n",
      "       'UACC_62_2', 'UACC_62_3'],\n",
      "      dtype='object', name='Sample Title')\n",
      "Sample Title\n",
      "FM_1            int64\n",
      "FM_2            int64\n",
      "FM_3            int64\n",
      "SK_MEL_28_1     int64\n",
      "SK_MEL_28_2     int64\n",
      "SK_MEL_28_3     int64\n",
      "SK_MEL_147_1    int64\n",
      "SK_MEL_147_2    int64\n",
      "SK_MEL_147_3    int64\n",
      "UACC_62_1       int64\n",
      "UACC_62_2       int64\n",
      "UACC_62_3       int64\n",
      "dtype: object\n"
     ]
    }
   ],
   "source": [
    "# Notice how we set the column names above\n",
    "# We can use that command to show us index and column names as well\n",
    "print(df_sample.index)\n",
    "print(df_sample.columns)\n",
    "print(df_sample.dtypes)"
   ]
  },
  {
   "cell_type": "markdown",
   "metadata": {},
   "source": [
    "## Slicing and sorting\n",
    "Getting subsets of data out of `pandas` DataFrames is done primarily in one of two ways.\n",
    "If you want to search for row and column names, you use .loc()\n",
    "You can instead use the indexes to select the data you want using .iloc()"
   ]
  },
  {
   "cell_type": "code",
   "execution_count": null,
   "metadata": {},
   "outputs": [],
   "source": []
  },
  {
   "cell_type": "code",
   "execution_count": null,
   "metadata": {},
   "outputs": [],
   "source": []
  },
  {
   "cell_type": "code",
   "execution_count": null,
   "metadata": {},
   "outputs": [],
   "source": [
    "# Let's sort by the index "
   ]
  },
  {
   "cell_type": "code",
   "execution_count": null,
   "metadata": {},
   "outputs": [],
   "source": [
    "df_sample.UACC_62_1"
   ]
  },
  {
   "cell_type": "code",
   "execution_count": null,
   "metadata": {},
   "outputs": [],
   "source": []
  },
  {
   "cell_type": "code",
   "execution_count": null,
   "metadata": {},
   "outputs": [],
   "source": []
  },
  {
   "cell_type": "code",
   "execution_count": 16,
   "metadata": {},
   "outputs": [
    {
     "ename": "NameError",
     "evalue": "name 'head' is not defined",
     "output_type": "error",
     "traceback": [
      "\u001b[1;31m---------------------------------------------------------------------------\u001b[0m",
      "\u001b[1;31mNameError\u001b[0m                                 Traceback (most recent call last)",
      "\u001b[1;32m<ipython-input-16-c5baaa7b0b65>\u001b[0m in \u001b[0;36m<module>\u001b[1;34m\u001b[0m\n\u001b[0;32m      6\u001b[0m \u001b[0mtype\u001b[0m\u001b[1;33m(\u001b[0m\u001b[0mnda\u001b[0m\u001b[1;33m)\u001b[0m\u001b[1;33m\u001b[0m\u001b[1;33m\u001b[0m\u001b[0m\n\u001b[0;32m      7\u001b[0m \u001b[1;31m#nda.head()\u001b[0m\u001b[1;33m\u001b[0m\u001b[1;33m\u001b[0m\u001b[1;33m\u001b[0m\u001b[0m\n\u001b[1;32m----> 8\u001b[1;33m \u001b[0mhead\u001b[0m\u001b[1;33m(\u001b[0m\u001b[0mnda\u001b[0m\u001b[1;33m)\u001b[0m\u001b[1;33m\u001b[0m\u001b[1;33m\u001b[0m\u001b[0m\n\u001b[0m",
      "\u001b[1;31mNameError\u001b[0m: name 'head' is not defined"
     ]
    }
   ],
   "source": [
    "# We can send our DataFrame into a numpy array\n",
    "# ndarrays can only be one type of data, so if we added any metadata\n",
    "# this would convert to whatever data type works for all data types present\n",
    "\n",
    "nda = df.to_numpy()\n",
    "type(nda)\n",
    "#nda.head()\n"
   ]
  },
  {
   "cell_type": "markdown",
   "metadata": {},
   "source": [
    "## Differences between lists and NumPy Arrays\n",
    "* An array's size is immutable.  You cannot append, insert or remove elements, like you can with a list.\n",
    "* All of an array's elements must be of the same [data type](https://docs.scipy.org/doc/numpy-1.14.0/user/basics.types.html).\n",
    "* A NumPy array behaves in a Pythonic fashion.  You can `len(my_array)` just like you would assume."
   ]
  },
  {
   "cell_type": "code",
   "execution_count": null,
   "metadata": {},
   "outputs": [],
   "source": [
    "gpas_as_list = [4.0, 3.286, 3.5]"
   ]
  },
  {
   "cell_type": "code",
   "execution_count": null,
   "metadata": {},
   "outputs": [],
   "source": [
    "# Can have elements appended to it\n",
    "gpas_as_list.append(4.0)\n",
    "# Can have multiple datatypes in it.\n",
    "gpas_as_list.insert(1, \"Whatevs\")\n",
    "# Can have items removed\n",
    "gpas_as_list.pop(1)"
   ]
  },
  {
   "cell_type": "code",
   "execution_count": null,
   "metadata": {},
   "outputs": [],
   "source": [
    "gpas_as_list"
   ]
  },
  {
   "cell_type": "code",
   "execution_count": null,
   "metadata": {},
   "outputs": [],
   "source": [
    "gpas = np.array(gpas_as_list)"
   ]
  },
  {
   "cell_type": "code",
   "execution_count": null,
   "metadata": {},
   "outputs": [],
   "source": [
    "gpas.dtype"
   ]
  },
  {
   "cell_type": "code",
   "execution_count": null,
   "metadata": {},
   "outputs": [],
   "source": [
    "gpas.itemsize"
   ]
  },
  {
   "cell_type": "code",
   "execution_count": null,
   "metadata": {},
   "outputs": [],
   "source": [
    "gpas.size"
   ]
  },
  {
   "cell_type": "code",
   "execution_count": null,
   "metadata": {},
   "outputs": [],
   "source": [
    "len(gpas)"
   ]
  },
  {
   "cell_type": "code",
   "execution_count": null,
   "metadata": {},
   "outputs": [],
   "source": [
    "gpas.nbytes"
   ]
  },
  {
   "cell_type": "markdown",
   "metadata": {},
   "source": [
    "## Multidimensional Arrays\n",
    "* The data structure is actually called `ndarray`, representing any **n**umber of **d**imensions\n",
    "* Arrays can have multiple dimensions, you declare them on creation\n",
    "* Dimensions help define what each element in the array represents.  A two dimensional array is just an array of arrays\n",
    "* **Rank** defines how many dimensions an array contains \n",
    "* **Shape** defines the length of each of the array's dimensions\n",
    "* Each dimension is also referred to as an **axis**, and they are zero-indexed. Multiples are called **axes**.\n",
    "* A 2d array is AKA **matrix**."
   ]
  },
  {
   "cell_type": "code",
   "execution_count": null,
   "metadata": {},
   "outputs": [],
   "source": [
    "students_gpas = np.array([\n",
    "    [4.0, 3.286, 3.5, 4.0],\n",
    "    [3.2, 3.8, 4.0, 4.0],\n",
    "    [3.96, 3.92, 4.0, 4.0]\n",
    "], np.float16)\n",
    "students_gpas"
   ]
  },
  {
   "cell_type": "code",
   "execution_count": null,
   "metadata": {},
   "outputs": [],
   "source": [
    "students_gpas.ndim"
   ]
  },
  {
   "cell_type": "code",
   "execution_count": null,
   "metadata": {},
   "outputs": [],
   "source": [
    "students_gpas.shape"
   ]
  },
  {
   "cell_type": "code",
   "execution_count": null,
   "metadata": {},
   "outputs": [],
   "source": [
    "students_gpas.size"
   ]
  },
  {
   "cell_type": "code",
   "execution_count": null,
   "metadata": {},
   "outputs": [],
   "source": [
    "len(students_gpas)"
   ]
  },
  {
   "cell_type": "code",
   "execution_count": null,
   "metadata": {},
   "outputs": [],
   "source": [
    "students_gpas.itemsize"
   ]
  },
  {
   "cell_type": "code",
   "execution_count": null,
   "metadata": {},
   "outputs": [],
   "source": [
    "students_gpas.itemsize * students_gpas.size"
   ]
  },
  {
   "cell_type": "code",
   "execution_count": null,
   "metadata": {},
   "outputs": [],
   "source": [
    "%whos ndarray"
   ]
  },
  {
   "cell_type": "code",
   "execution_count": null,
   "metadata": {},
   "outputs": [],
   "source": [
    "np.info(students_gpas)"
   ]
  },
  {
   "cell_type": "code",
   "execution_count": null,
   "metadata": {},
   "outputs": [],
   "source": [
    "students_gpas[2]"
   ]
  },
  {
   "cell_type": "code",
   "execution_count": null,
   "metadata": {},
   "outputs": [],
   "source": [
    "students_gpas[2][3]"
   ]
  },
  {
   "cell_type": "code",
   "execution_count": null,
   "metadata": {},
   "outputs": [],
   "source": [
    "students_gpas"
   ]
  },
  {
   "cell_type": "markdown",
   "metadata": {},
   "source": [
    "## Common Routines\n",
    "* Common [mathematical](https://docs.scipy.org/doc/numpy-1.14.0/reference/routines.math.html) [routines](https://docs.scipy.org/doc/numpy-1.14.0/reference/routines.html) are exposed so the formula can be abstracted away.\n",
    "    * [`mean`](https://docs.scipy.org/doc/numpy-1.14.0/reference/generated/numpy.mean.html#numpy.mean) is a [statistics](https://docs.scipy.org/doc/numpy-1.14.0/reference/routines.statistics.html) routine used to calculate the average.\n",
    "* Reduction functions take a dimension and collapse it into a single value.\n",
    "    * These functions define an axis parameter, and you should remember that the function works across the dimension.\n",
    " "
   ]
  },
  {
   "cell_type": "code",
   "execution_count": null,
   "metadata": {},
   "outputs": [],
   "source": [
    "students_gpas.mean()"
   ]
  },
  {
   "cell_type": "code",
   "execution_count": null,
   "metadata": {},
   "outputs": [],
   "source": [
    "students_gpas.mean(axis=1)"
   ]
  },
  {
   "cell_type": "code",
   "execution_count": null,
   "metadata": {},
   "outputs": [],
   "source": [
    "plt.boxplot(students_gpas.T)\n",
    "plt.plot()"
   ]
  },
  {
   "cell_type": "markdown",
   "metadata": {},
   "source": [
    "## About data types\n",
    "* By choosing the proper [data type](https://docs.scipy.org/doc/numpy-1.14.0/user/basics.types.html) you can greatly reduce the size required to store objects\n",
    "* Data types are maintained by wrapping values in a [scalar representation](https://docs.scipy.org/doc/numpy-1.14.0/reference/arrays.scalars.html)\n",
    "* `np.zeros` is a handy way to create an empty array filled with zeros."
   ]
  },
  {
   "cell_type": "code",
   "execution_count": null,
   "metadata": {},
   "outputs": [],
   "source": [
    "study_minutes = np.zeros(100, np.uint16)\n",
    "study_minutes"
   ]
  },
  {
   "cell_type": "code",
   "execution_count": null,
   "metadata": {},
   "outputs": [],
   "source": [
    "%whos"
   ]
  },
  {
   "cell_type": "code",
   "execution_count": null,
   "metadata": {},
   "outputs": [],
   "source": [
    "60 * 24"
   ]
  },
  {
   "cell_type": "code",
   "execution_count": null,
   "metadata": {},
   "outputs": [],
   "source": [
    "study_minutes[0] = 150"
   ]
  },
  {
   "cell_type": "code",
   "execution_count": null,
   "metadata": {},
   "outputs": [],
   "source": [
    "first_day_minutes = study_minutes[0]"
   ]
  },
  {
   "cell_type": "code",
   "execution_count": null,
   "metadata": {},
   "outputs": [],
   "source": [
    "first_day_minutes"
   ]
  },
  {
   "cell_type": "code",
   "execution_count": null,
   "metadata": {},
   "outputs": [],
   "source": [
    "type(first_day_minutes)"
   ]
  },
  {
   "cell_type": "code",
   "execution_count": null,
   "metadata": {},
   "outputs": [],
   "source": [
    "# TODO: Add 60 minutes to the second day in the study_minutes array\n",
    "study_minutes[1] = 60"
   ]
  },
  {
   "cell_type": "code",
   "execution_count": null,
   "metadata": {},
   "outputs": [],
   "source": [
    "study_minutes[2:6] = [80, 60, 30, 90]"
   ]
  },
  {
   "cell_type": "markdown",
   "metadata": {},
   "source": [
    "## Creation \n",
    "* You can create a random but bound grouping of values using the `np.random` package.  \n",
    "  * `RandomState` let's you seed your randomness in a way that is repeatable.\n",
    "* You can append a row in a couple of ways\n",
    "   * You can use the `np.append` method.  Make sure the new row is the same shape.\n",
    "   * You can create/reassign a new array by including the existing array as part of the iterable in creation.\n",
    "\n",
    "\n",
    "## Indexing\n",
    "* You can use an indexing shortcut by separating dimensions with a comma.  \n",
    "* You can index using a `list` or `np.array`.  Values will be pulled out at that specific index.  This is known as fancy indexing.\n",
    "  * Resulting array shape matches the index array layout.  Be careful to distinguish between the tuple shortcut and fancy indexing."
   ]
  },
  {
   "cell_type": "code",
   "execution_count": null,
   "metadata": {},
   "outputs": [],
   "source": [
    "study_minutes = np.array([\n",
    "    study_minutes,\n",
    "    np.zeros(100, np.uint16)\n",
    "])"
   ]
  },
  {
   "cell_type": "code",
   "execution_count": null,
   "metadata": {},
   "outputs": [],
   "source": [
    "study_minutes.shape"
   ]
  },
  {
   "cell_type": "code",
   "execution_count": null,
   "metadata": {},
   "outputs": [],
   "source": [
    "# Set round 2 day 1 to 60\n",
    "study_minutes[1][0] = 60"
   ]
  },
  {
   "cell_type": "code",
   "execution_count": null,
   "metadata": {},
   "outputs": [],
   "source": [
    "study_minutes[1, 0]"
   ]
  },
  {
   "cell_type": "code",
   "execution_count": null,
   "metadata": {},
   "outputs": [],
   "source": [
    "1, 0"
   ]
  },
  {
   "cell_type": "code",
   "execution_count": null,
   "metadata": {},
   "outputs": [],
   "source": [
    "rand = np.random.RandomState(42)\n",
    "fake_log = rand.randint(30, 180, size=100, dtype=np.uint16)\n",
    "fake_log"
   ]
  },
  {
   "cell_type": "code",
   "execution_count": null,
   "metadata": {},
   "outputs": [],
   "source": [
    "[fake_log[3], fake_log[8]]"
   ]
  },
  {
   "cell_type": "code",
   "execution_count": null,
   "metadata": {},
   "outputs": [],
   "source": [
    "fake_log[[3, 8]]"
   ]
  },
  {
   "cell_type": "code",
   "execution_count": null,
   "metadata": {},
   "outputs": [],
   "source": [
    "index = np.array([\n",
    "    [3, 8],\n",
    "    [0, 1]\n",
    "])\n",
    "fake_log[index]"
   ]
  },
  {
   "cell_type": "code",
   "execution_count": null,
   "metadata": {},
   "outputs": [],
   "source": [
    "study_minutes = np.append(study_minutes, [fake_log], axis=0)"
   ]
  },
  {
   "cell_type": "code",
   "execution_count": null,
   "metadata": {},
   "outputs": [],
   "source": [
    "study_minutes[1, 1] = 360"
   ]
  },
  {
   "cell_type": "markdown",
   "metadata": {},
   "source": [
    "## Boolean Array Indexing\n",
    "* You can create a boolean array by using comparison operators on an array.\n",
    "  * You can use boolean arrays for fancy indexing.\n",
    "  * Boolean arrays can be compared by using bitwise operators (`&`, `|`)\n",
    "      * Do not use the `and` keyword.\n",
    "      * Remember to mind the order of operations when combining\n",
    "* Even though boolean indexing returns a new array, you can update an existing array using a boolean index."
   ]
  },
  {
   "cell_type": "code",
   "execution_count": null,
   "metadata": {},
   "outputs": [],
   "source": [
    "fake_log[fake_log < 60]"
   ]
  },
  {
   "cell_type": "code",
   "execution_count": null,
   "metadata": {},
   "outputs": [],
   "source": [
    "results = []\n",
    "for value in fake_log:\n",
    "    if value < 60:\n",
    "        results.append(value)\n",
    "np.array(results)"
   ]
  },
  {
   "cell_type": "code",
   "execution_count": null,
   "metadata": {},
   "outputs": [],
   "source": [
    "study_minutes[study_minutes < 60]"
   ]
  },
  {
   "cell_type": "code",
   "execution_count": null,
   "metadata": {},
   "outputs": [],
   "source": [
    "np.array([False, True, True]) & np.array([True, False, True])"
   ]
  },
  {
   "cell_type": "code",
   "execution_count": null,
   "metadata": {},
   "outputs": [],
   "source": [
    "study_minutes[(study_minutes < 60) & (study_minutes > 0)]"
   ]
  },
  {
   "cell_type": "code",
   "execution_count": null,
   "metadata": {},
   "outputs": [],
   "source": [
    "study_minutes[study_minutes < 60] = 0"
   ]
  },
  {
   "cell_type": "code",
   "execution_count": null,
   "metadata": {},
   "outputs": [],
   "source": [
    "study_minutes[2]"
   ]
  },
  {
   "cell_type": "markdown",
   "metadata": {},
   "source": [
    "## Universal Functions - Reduce / Accumulate\n",
    "* Universal Functions expose a function to [`reduce`](https://docs.scipy.org/doc/numpy/reference/generated/numpy.ufunc.reduce.html) an array to a single value.\n",
    "* There is also a function named [`accumulate`](https://docs.scipy.org/doc/numpy/reference/generated/numpy.ufunc.accumulate.html) which will show the reduction and it's accumulation as it happens."
   ]
  },
  {
   "cell_type": "code",
   "execution_count": null,
   "metadata": {},
   "outputs": [],
   "source": [
    "np.add.reduce(study_minutes[0])"
   ]
  },
  {
   "cell_type": "code",
   "execution_count": null,
   "metadata": {},
   "outputs": [],
   "source": [
    "np.add.accumulate(study_minutes[0])"
   ]
  },
  {
   "cell_type": "code",
   "execution_count": null,
   "metadata": {},
   "outputs": [],
   "source": [
    "np.sum(study_minutes[0])"
   ]
  },
  {
   "cell_type": "code",
   "execution_count": null,
   "metadata": {},
   "outputs": [],
   "source": [
    "np.sum(study_minutes, axis=1)"
   ]
  },
  {
   "cell_type": "code",
   "execution_count": null,
   "metadata": {},
   "outputs": [],
   "source": [
    "# Pass in a one dimensional array of all the minutes that are \n",
    "#  greater than zero\n",
    "plt.hist(study_minutes[study_minutes > 0])\n",
    "plt.plot()"
   ]
  },
  {
   "cell_type": "markdown",
   "metadata": {},
   "source": [
    "## Slicing\n",
    "* Works a lot like normal list slicing.\n",
    "* You can use commas to separate each dimension slice.\n",
    "* Always returns a data view **not a copy**\n",
    "* You can access the base object using the `ndarray.base` property"
   ]
  },
  {
   "cell_type": "code",
   "execution_count": null,
   "metadata": {},
   "outputs": [],
   "source": [
    "fruit = [\"apple\", \"banana\", \"cherry\", \"durian\"]"
   ]
  },
  {
   "cell_type": "code",
   "execution_count": null,
   "metadata": {},
   "outputs": [],
   "source": [
    "fruit[1:3]"
   ]
  },
  {
   "cell_type": "code",
   "execution_count": null,
   "metadata": {},
   "outputs": [],
   "source": [
    "fruit[:3]"
   ]
  },
  {
   "cell_type": "code",
   "execution_count": null,
   "metadata": {},
   "outputs": [],
   "source": [
    "fruit[3:]"
   ]
  },
  {
   "cell_type": "code",
   "execution_count": null,
   "metadata": {},
   "outputs": [],
   "source": [
    "fruit[:]"
   ]
  },
  {
   "cell_type": "code",
   "execution_count": null,
   "metadata": {},
   "outputs": [],
   "source": [
    "copied = fruit[:]"
   ]
  },
  {
   "cell_type": "code",
   "execution_count": null,
   "metadata": {},
   "outputs": [],
   "source": [
    "copied[3] = 'cheese'\n",
    "# Slicing a list returns a copy\n",
    "fruit, copied"
   ]
  },
  {
   "cell_type": "code",
   "execution_count": null,
   "metadata": {},
   "outputs": [],
   "source": [
    "fruit[::2]"
   ]
  },
  {
   "cell_type": "code",
   "execution_count": null,
   "metadata": {},
   "outputs": [],
   "source": [
    "fruit[::-1]"
   ]
  },
  {
   "cell_type": "code",
   "execution_count": null,
   "metadata": {},
   "outputs": [],
   "source": [
    "np.arange(20)"
   ]
  },
  {
   "cell_type": "code",
   "execution_count": null,
   "metadata": {},
   "outputs": [],
   "source": [
    "practice = np.arange(42)\n",
    "practice.shape = (7, 6)\n",
    "practice"
   ]
  },
  {
   "cell_type": "code",
   "execution_count": null,
   "metadata": {},
   "outputs": [],
   "source": [
    "practice[2:5, 3::2]"
   ]
  },
  {
   "cell_type": "code",
   "execution_count": null,
   "metadata": {},
   "outputs": [],
   "source": [
    "# Any slicing of ndarray returns a view and not a copy!\n",
    "not_copied = practice[:]\n",
    "not_copied[0, 0] = 90210\n",
    "practice, not_copied"
   ]
  },
  {
   "cell_type": "code",
   "execution_count": null,
   "metadata": {},
   "outputs": [],
   "source": [
    "practice.base is None"
   ]
  },
  {
   "cell_type": "code",
   "execution_count": null,
   "metadata": {},
   "outputs": [],
   "source": [
    "not_copied.base is None"
   ]
  },
  {
   "cell_type": "code",
   "execution_count": null,
   "metadata": {},
   "outputs": [],
   "source": [
    "not_copied.base is practice"
   ]
  },
  {
   "cell_type": "code",
   "execution_count": null,
   "metadata": {},
   "outputs": [],
   "source": [
    "practice.flags['OWNDATA'], not_copied.flags['OWNDATA']"
   ]
  },
  {
   "cell_type": "markdown",
   "metadata": {},
   "source": [
    "## Array Manipulation\n",
    "* The documentation on [Array Manipulation](https://docs.scipy.org/doc/numpy/reference/routines.array-manipulation.html) is a good one to keep bookmarked.\n",
    "* `ndarray.reshape` creates a view with a new shape\n",
    "  * You can use `-1` as a value to infer the missing dimension\n",
    "* `ndarray.ravel` returns a single dimensional view of the array.\n",
    "* `ndarray.flatten` can be used to make a single dimensional copy.\n",
    "* `np.lookfor` is great for searching docstrings from within a notebook."
   ]
  },
  {
   "cell_type": "code",
   "execution_count": null,
   "metadata": {},
   "outputs": [],
   "source": [
    "practice_view = practice.reshape(3, 14)\n",
    "practice, practice_view, practice_view.base is practice"
   ]
  },
  {
   "cell_type": "code",
   "execution_count": null,
   "metadata": {},
   "outputs": [],
   "source": [
    "practice.reshape(-1, 2).shape"
   ]
  },
  {
   "cell_type": "code",
   "execution_count": null,
   "metadata": {},
   "outputs": [],
   "source": [
    "practice.ravel()"
   ]
  },
  {
   "cell_type": "markdown",
   "metadata": {},
   "source": [
    "## Linear Algebra\n",
    "* There is a module for linear algebra, [linalg](https://docs.scipy.org/doc/numpy/reference/routines.linalg.html)\n",
    "* You can solve for a system of equations using the [solve function](https://docs.scipy.org/doc/numpy/reference/generated/numpy.linalg.solve.html#numpy.linalg.solve)\n",
    "    * You can create a square 2 dimensional matrix and a constant row vector and solve for each variable column\n",
    "    * You can double check the answer using the inner product or [dot](https://docs.scipy.org/doc/numpy/reference/generated/numpy.dot.html#numpy.dot).\n",
    "* You can use the `@` to produce the dot product of two arrays."
   ]
  },
  {
   "cell_type": "code",
   "execution_count": null,
   "metadata": {},
   "outputs": [],
   "source": [
    "orders = np.array([\n",
    "    [2, 0, 0, 0],\n",
    "    [4, 1, 2, 2],\n",
    "    [0, 1, 0, 1],\n",
    "    [6, 0, 1, 2]\n",
    "])\n",
    "totals = np.array([3, 20.50, 10, 14.25])\n",
    "prices = np.linalg.solve(orders, totals)\n",
    "prices"
   ]
  },
  {
   "cell_type": "code",
   "execution_count": null,
   "metadata": {},
   "outputs": [],
   "source": [
    "# A • B\n",
    "orders @ prices"
   ]
  },
  {
   "cell_type": "code",
   "execution_count": null,
   "metadata": {},
   "outputs": [],
   "source": [
    "orders.dot(prices)"
   ]
  },
  {
   "cell_type": "markdown",
   "metadata": {},
   "source": [
    "## Universal Functions\n",
    "* [ufuncs](https://docs.scipy.org/doc/numpy/reference/ufuncs.html) are commonly needed vectorized functions\n",
    "  * Vectorized functions allow you to operate element by element without using a loop\n",
    "* The standard math and comparison operations have all been overloaded so that they can make use of vectorization\n",
    "* Values can be [broadcasted](https://docs.scipy.org/doc/numpy/user/basics.broadcasting.html), or stretched to be applied to the ufuncs."
   ]
  },
  {
   "cell_type": "code",
   "execution_count": null,
   "metadata": {},
   "outputs": [],
   "source": [
    "a, b = np.split(np.arange(1, 11), 2)\n",
    "a, b"
   ]
  },
  {
   "cell_type": "code",
   "execution_count": null,
   "metadata": {},
   "outputs": [],
   "source": [
    "a + b"
   ]
  },
  {
   "cell_type": "code",
   "execution_count": null,
   "metadata": {},
   "outputs": [],
   "source": [
    "a - b"
   ]
  },
  {
   "cell_type": "code",
   "execution_count": null,
   "metadata": {},
   "outputs": [],
   "source": [
    "b - a"
   ]
  },
  {
   "cell_type": "code",
   "execution_count": null,
   "metadata": {},
   "outputs": [],
   "source": [
    "a * b"
   ]
  },
  {
   "cell_type": "code",
   "execution_count": null,
   "metadata": {},
   "outputs": [],
   "source": [
    "a + 2"
   ]
  },
  {
   "cell_type": "code",
   "execution_count": null,
   "metadata": {},
   "outputs": [],
   "source": [
    "a + np.repeat(2, 5)"
   ]
  },
  {
   "cell_type": "code",
   "execution_count": null,
   "metadata": {},
   "outputs": [],
   "source": [
    ">>> x1 = np.arange(9.0).reshape((3, 3))\n",
    ">>> x2 = np.arange(3.0)\n",
    "x1, x2"
   ]
  },
  {
   "cell_type": "code",
   "execution_count": null,
   "metadata": {},
   "outputs": [],
   "source": [
    ">>> np.add(x1, x2)"
   ]
  },
  {
   "cell_type": "code",
   "execution_count": null,
   "metadata": {},
   "outputs": [],
   "source": [
    "np.add(x1, 2)"
   ]
  }
 ],
 "metadata": {
  "kernelspec": {
   "display_name": "Python 3",
   "language": "python",
   "name": "python3"
  },
  "language_info": {
   "codemirror_mode": {
    "name": "ipython",
    "version": 3
   },
   "file_extension": ".py",
   "mimetype": "text/x-python",
   "name": "python",
   "nbconvert_exporter": "python",
   "pygments_lexer": "ipython3",
   "version": "3.6.8"
  }
 },
 "nbformat": 4,
 "nbformat_minor": 2
}

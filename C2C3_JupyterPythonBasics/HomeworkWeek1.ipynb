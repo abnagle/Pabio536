{
 "cells": [
  {
   "cell_type": "markdown",
   "metadata": {},
   "source": [
    "## Pabio536 Homework week one\n",
    "\n",
    "Let's say you have a file containing a list of short DNA fragments that correspond to the DNA binding sites. Unfortunately the file was corrupted and the sequences got scrambled. Here's the first example from the list.\n",
    "\n",
    "`GaCc^ncAAtcGattG^ngGtC11746`\n",
    "\n",
    "You know from some old data that should be:\n",
    "\n",
    "`GACCCAATCGATTGGGTC`\n",
    "\n",
    "You realize as you look at the scrambled data that there is a pattern to the changes made:\n",
    "1. Some bases are now lower case\n",
    "1. The character pair `^n` has been inserted randomly\n",
    "1. A five digit number has been stuck on the end\n",
    "\n",
    "You need to write a function named `unscrambler` that unscrambles the DNA by reversing each of those steps. The last cell of this notebook will run a test of your function on a set of 1,000 scrambled sequences and tell you what percent were unscrambled successfully.   "
   ]
  },
  {
   "cell_type": "code",
   "execution_count": null,
   "metadata": {},
   "outputs": [],
   "source": [
    "# Take the sample scrambled DNA fragment from above and assign it to the variable 'seq'\n",
    "### Start code here ###\n",
    "seq = None\n",
    "###  End code here  ###"
   ]
  },
  {
   "cell_type": "markdown",
   "metadata": {},
   "source": [
    "Let's try to fix each of those errors one at a time and then combine them into a function."
   ]
  },
  {
   "cell_type": "code",
   "execution_count": null,
   "metadata": {},
   "outputs": [],
   "source": [
    "# First let's captialize all of the letters\n",
    "### Start code here ###\n",
    "seq = None\n",
    "###  End code here  ###\n",
    "print(seq)"
   ]
  },
  {
   "cell_type": "code",
   "execution_count": null,
   "metadata": {},
   "outputs": [],
   "source": [
    "# Then let's remove the inserted '^n's\n",
    "### Start code here ###\n",
    "seq = None\n",
    "###  End code here  ###\n",
    "print(seq)"
   ]
  },
  {
   "cell_type": "code",
   "execution_count": null,
   "metadata": {},
   "outputs": [],
   "source": [
    "# Finally we need to trim the digits off the end of the string\n",
    "# Hint: The fact that there are always five digits on the end means we can do this with a simple slice\n",
    "### Start code here ###\n",
    "seq = None\n",
    "###  End code here  ###\n",
    "print(seq)"
   ]
  },
  {
   "cell_type": "code",
   "execution_count": null,
   "metadata": {},
   "outputs": [],
   "source": [
    "# Now lets take those three steps and turn them into a function. We will go over this on Monday,\n",
    "# but for now just paste your three lines of code from above into the form below.\n",
    "def unscrambler (seq):\n",
    "### Start code here ### \n",
    "    seq = None\n",
    "    seq = None\n",
    "    seq = None\n",
    "###  End code here  ###\n",
    "    return seq"
   ]
  },
  {
   "cell_type": "code",
   "execution_count": null,
   "metadata": {},
   "outputs": [],
   "source": [
    "# Now let's test that function on the sample sequence\n",
    "seq = 'GaCc^ncAAtcGattG^ngGtC11746'\n",
    "print(unscrambler(seq))"
   ]
  }
 ],
 "metadata": {
  "kernelspec": {
   "display_name": "Python 3",
   "language": "python",
   "name": "python3"
  },
  "language_info": {
   "codemirror_mode": {
    "name": "ipython",
    "version": 3
   },
   "file_extension": ".py",
   "mimetype": "text/x-python",
   "name": "python",
   "nbconvert_exporter": "python",
   "pygments_lexer": "ipython3",
   "version": "3.6.7"
  }
 },
 "nbformat": 4,
 "nbformat_minor": 2
}

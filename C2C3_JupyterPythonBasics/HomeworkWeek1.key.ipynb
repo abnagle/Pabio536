{
 "cells": [
  {
   "cell_type": "markdown",
   "metadata": {},
   "source": [
    "## Pabio536 Homework week one\n",
    "\n",
    "Let's say you have a file containing a list of short DNA fragments that correspond to the DNA binding sites. Unfortunately the file was corrupted and the sequences got scrambled. Here's the first example from the list.\n",
    "\n",
    "`GaCc^ncAAtcGattG^ngGtC11746`\n",
    "\n",
    "You know from some old data that should be:\n",
    "\n",
    "`GACCCAATCGATTGGGTC`\n",
    "\n",
    "You realize as you look at the scrambled data that there is a pattern to the changes made:\n",
    "1. Some bases are now lower case\n",
    "1. The character pair `^n` has been inserted randomly\n",
    "1. A five digit number has been stuck on the end\n",
    "\n",
    "You need to write a function named `unscrambler` that unscrambles the DNA by reversing each of those steps. The last cell of this notebook will run a test of your function on a set of 1,000 scrambled sequences and tell you what percent were unscrambled successfully.   "
   ]
  },
  {
   "cell_type": "code",
   "execution_count": null,
   "metadata": {},
   "outputs": [],
   "source": [
    "# Take the sample scrambled DNA fragment from above and assign it to the variable 'seq'\n",
    "seq = 'GaCc^ncAAtcGattG^ngGtC11746'\n",
    "len(seq)"
   ]
  },
  {
   "cell_type": "markdown",
   "metadata": {},
   "source": [
    "Let's try to fix each of those errors one at a time and then combine them into a function."
   ]
  },
  {
   "cell_type": "code",
   "execution_count": null,
   "metadata": {},
   "outputs": [],
   "source": [
    "# First let's captialize all of the letters\n",
    "seq = seq.upper()\n",
    "print(seq)"
   ]
  },
  {
   "cell_type": "code",
   "execution_count": null,
   "metadata": {},
   "outputs": [],
   "source": [
    "# Then let's remove the inserted '^n's\n",
    "seq = seq.replace('^N', '')\n",
    "print(seq)"
   ]
  },
  {
   "cell_type": "code",
   "execution_count": null,
   "metadata": {},
   "outputs": [],
   "source": [
    "# Finally we need to trim the digits off the end of the string\n",
    "# Hint: The fact that there are always five digits on the end means we can do this with a simple slice\n",
    "seq = seq[:-5]\n",
    "print(seq)"
   ]
  },
  {
   "cell_type": "code",
   "execution_count": null,
   "metadata": {},
   "outputs": [],
   "source": [
    "# Now lets take those three steps and turn them into a function. We will go over this on Monday,\n",
    "# but for now just paste your three lines of code from above into the form below.\n",
    "def unscrambler (seq):\n",
    "### Start code here ### \n",
    "    seq = seq.upper()\n",
    "    seq = seq.replace('^N', '')\n",
    "    seq = seq[:-5]\n",
    "    return seq\n",
    "###  End code here  ###"
   ]
  },
  {
   "cell_type": "code",
   "execution_count": null,
   "metadata": {},
   "outputs": [],
   "source": [
    "# Now let's test that function on the sample sequence\n",
    "seq = 'GaCc^ncAAtcGattG^ngGtC11746'\n",
    "print(unscrambler(seq))"
   ]
  },
  {
   "cell_type": "code",
   "execution_count": null,
   "metadata": {},
   "outputs": [],
   "source": [
    "nt = ['A', 'C', 'G', 'T', 'a', 'c', 'g', 't', '^n']\n",
    "complement = {\n",
    "    'A' : 'T',\n",
    "    'C' : 'G',\n",
    "    'G' : 'C',\n",
    "    'T' : 'A',\n",
    "    'a' : 't',\n",
    "    'c' : 'g',\n",
    "    'g' : 'c',\n",
    "    't' : 'a',\n",
    "    '^n': '^n'}"
   ]
  },
  {
   "cell_type": "markdown",
   "metadata": {},
   "source": [
    "***\n",
    "### Scrambled sequence generator\n",
    "Here's the code for making the scrambled sequences. This is probably more complex than it needs to be, but it gets the job done. I tried to make the sequences somewhat symmetrical to mimic real binding sites. Odds anyone but me will notice... "
   ]
  },
  {
   "cell_type": "code",
   "execution_count": null,
   "metadata": {},
   "outputs": [],
   "source": [
    "import random\n",
    "import csv\n",
    "import pickle"
   ]
  },
  {
   "cell_type": "code",
   "execution_count": null,
   "metadata": {},
   "outputs": [],
   "source": [
    "seqset = []\n",
    "for i in range(1000):\n",
    "    len1 = random.randint(9, 25)\n",
    "    frag1 = random.choices(nt, k=len1)\n",
    "    len2 = random.randint(0, 5)\n",
    "    frag2 = random.choices(nt, k=len2)\n",
    "    frag3 = []\n",
    "    for j in frag1:\n",
    "        if random.random() < 0.3:\n",
    "            frag3.append(random.choice(nt))\n",
    "        else:\n",
    "            frag3.append(complement[j])\n",
    "    frag3.reverse()\n",
    "    frag4 = map(str,random.choices(range(0,9),k=5))\n",
    "    frag4 = list(''.join(frag4))\n",
    "    frag = ''.join(frag1 + frag2 + frag3 + frag4)\n",
    "    seqset.append(frag)\n"
   ]
  },
  {
   "cell_type": "code",
   "execution_count": null,
   "metadata": {},
   "outputs": [],
   "source": [
    "with open('seqset.pickle', 'wb') as myfile:\n",
    "    pickle.dump(seqset, myfile)"
   ]
  },
  {
   "cell_type": "code",
   "execution_count": null,
   "metadata": {},
   "outputs": [],
   "source": [
    "with open('seqset.pickle', 'rb') as f:\n",
    "    testseq = pickle.load(f)"
   ]
  },
  {
   "cell_type": "code",
   "execution_count": null,
   "metadata": {},
   "outputs": [],
   "source": [
    "unscram = []\n",
    "for i in testseq:\n",
    "    unscram.append(unscrambler(i))\n",
    "    \n",
    "print(unscram[:4])"
   ]
  },
  {
   "cell_type": "code",
   "execution_count": null,
   "metadata": {},
   "outputs": [],
   "source": [
    "with open('unscram.pickle', 'wb') as myfile:\n",
    "    pickle.dump(unscram, myfile)"
   ]
  },
  {
   "cell_type": "code",
   "execution_count": null,
   "metadata": {},
   "outputs": [],
   "source": [
    "with open('unscram.pickle', 'rb') as f:\n",
    "    unscram = pickle.load(f)"
   ]
  },
  {
   "cell_type": "code",
   "execution_count": null,
   "metadata": {},
   "outputs": [],
   "source": [
    "# Load sample data\n",
    "with open('seqset.pickle', 'rb') as f:\n",
    "    testseq = pickle.load(f)\n",
    "\n",
    "# Unscramble the sample data\n",
    "unscram = []\n",
    "for i in testseq:\n",
    "    unscram.append(unscrambler(i))\n",
    "\n",
    "# Load unscrambled key\n",
    "with open('unscram.pickle', 'rb') as f:\n",
    "    unscram_key = pickle.load(f)\n",
    "\n",
    "if unscram == unscram_key:\n",
    "    print('Congratulations! Your unscrambler function worked!')\n",
    "else:\n",
    "    print(\"Keep trying- something's not quite right\")\n",
    "    print(\"The first five from your unscrambled set:\")\n",
    "    print(unscram[:4])\n",
    "    print(\"The first five from the key:\")\n",
    "    print(unscram_key[:4])"
   ]
  }
 ],
 "metadata": {
  "kernelspec": {
   "display_name": "Python 3",
   "language": "python",
   "name": "python3"
  },
  "language_info": {
   "codemirror_mode": {
    "name": "ipython",
    "version": 3
   },
   "file_extension": ".py",
   "mimetype": "text/x-python",
   "name": "python",
   "nbconvert_exporter": "python",
   "pygments_lexer": "ipython3",
   "version": "3.6.8"
  }
 },
 "nbformat": 4,
 "nbformat_minor": 2
}
